{
 "cells": [
  {
   "cell_type": "markdown",
   "metadata": {},
   "source": [
    "# Matrix Factorization"
   ]
  },
  {
   "cell_type": "code",
   "execution_count": 31,
   "metadata": {},
   "outputs": [],
   "source": [
    "import numpy as np\n",
    "import pandas as pd\n",
    "from IPython.display import SVG\n",
    "\n",
    "from keras.models import Model, load_model\n",
    "from keras.utils.vis_utils import model_to_dot\n",
    "from keras import layers\n",
    "from keras.utils import plot_model\n",
    "from keras.backend import mean\n",
    "from keras.preprocessing import text\n",
    "from keras import callbacks\n",
    "from sklearn import preprocessing\n",
    "\n",
    "from sklearn.model_selection import train_test_split\n",
    "from sklearn import metrics\n",
    "\n",
    "from sklearn.neighbors import NearestNeighbors"
   ]
  },
  {
   "cell_type": "markdown",
   "metadata": {},
   "source": [
    "## Train"
   ]
  },
  {
   "cell_type": "code",
   "execution_count": null,
   "metadata": {},
   "outputs": [],
   "source": [
    "df = pd.read_csv(\"../../datasets/movielens/ml-20m/ratings.csv\").sample(n=500000)\n",
    "\n",
    "df_train, df_test = train_test_split(df)\n",
    "\n",
    "n_movies = df.movieId.max()\n",
    "n_users = df.userId.max()\n",
    "n_latent_factors = 50\n",
    "\n",
    "movie_input = layers.Input(shape=[1], name='Item')\n",
    "movie_embedding = layers.Embedding(n_movies + 1,\n",
    "                                   n_latent_factors,\n",
    "                                   name='Movie-Embedding')(movie_input)\n",
    "movie_vec = layers.Flatten()(movie_embedding)\n",
    "\n",
    "user_input = layers.Input(shape=[1],\n",
    "                          name='User')\n",
    "user_embedding = layers.Embedding(n_users + 1,\n",
    "                                  n_latent_factors,\n",
    "                                  name='User-Embedding')(user_input)\n",
    "user_vec = layers.Flatten()(user_embedding)\n",
    "\n",
    "prod = layers.merge([movie_vec, user_vec], mode='dot', name='DotProduct')\n",
    "model = Model([user_input, movie_input], prod)\n",
    "model.compile('adam', 'mean_squared_error')\n",
    "\n",
    "checkpoint = callbacks.ModelCheckpoint(\"bin/mf.h5\",\n",
    "                                       monitor='val_loss',\n",
    "                                       verbose=0,\n",
    "                                       save_best_only=True)\n",
    "\n",
    "\n",
    "history = model.fit(x=[df_train.userId, df_train.movieId],\n",
    "                    y=df_train.rating,\n",
    "                    epochs=30,\n",
    "                    verbose=1,\n",
    "                    callbacks=[checkpoint],\n",
    "                    validation_data=(\n",
    "                        [df_test.userId, df_test.movieId],\n",
    "                        df_test.rating)\n",
    "                    )"
   ]
  },
  {
   "cell_type": "markdown",
   "metadata": {},
   "source": [
    "## Predict"
   ]
  },
  {
   "cell_type": "code",
   "execution_count": 4,
   "metadata": {},
   "outputs": [
    {
     "name": "stderr",
     "output_type": "stream",
     "text": [
      "/Users/eric/Code/virtualenvs/data3/lib/python3.6/site-packages/keras/engine/topology.py:1271: UserWarning: The `Merge` layer is deprecated and will be removed after 08/2017. Use instead layers from `keras.layers.merge`, e.g. `add`, `concatenate`, etc.\n",
      "  return cls(**config)\n"
     ]
    }
   ],
   "source": [
    "model = load_model(\"./bin/mf.h5\")"
   ]
  },
  {
   "cell_type": "code",
   "execution_count": 6,
   "metadata": {},
   "outputs": [],
   "source": [
    "y_pred = model.predict(x=[df_test.userId, df_test.movieId])\n",
    "y_true = df_test.rating.tolist()"
   ]
  },
  {
   "cell_type": "code",
   "execution_count": 7,
   "metadata": {},
   "outputs": [],
   "source": [
    "E = model.get_layer(\"Movie-Embedding\").get_weights()[0]"
   ]
  },
  {
   "cell_type": "code",
   "execution_count": 14,
   "metadata": {},
   "outputs": [],
   "source": [
    "nbrs = NearestNeighbors(n_neighbors=20, algorithm='ball_tree').fit(E)"
   ]
  },
  {
   "cell_type": "code",
   "execution_count": 30,
   "metadata": {},
   "outputs": [
    {
     "name": "stdout",
     "output_type": "stream",
     "text": [
      "CPU times: user 18.4 ms, sys: 2.13 ms, total: 20.5 ms\n",
      "Wall time: 18.9 ms\n"
     ]
    },
    {
     "data": {
      "text/plain": [
       "(array([[0.        , 2.0756038 , 2.09173514, 2.09795381, 2.16329627,\n",
       "         2.17545097, 2.18222597, 2.19936834, 2.20466627, 2.21050236,\n",
       "         2.21092981, 2.21195929, 2.21676416, 2.21705692, 2.22327044,\n",
       "         2.223486  , 2.22401078, 2.2289132 , 2.23346397, 2.24184798]]),\n",
       " array([[    5, 43869, 99750, 51004, 55255, 71533,   386,  7675,  8571,\n",
       "          3149,  7940,  8639, 58992, 80469,  3445,  6162,  3850,  7168,\n",
       "         39481,  4499]]))"
      ]
     },
     "execution_count": 30,
     "metadata": {},
     "output_type": "execute_result"
    }
   ],
   "source": [
    "%time nbrs.kneighbors(E[5].reshape(1,-1))"
   ]
  },
  {
   "cell_type": "code",
   "execution_count": null,
   "metadata": {},
   "outputs": [],
   "source": []
  }
 ],
 "metadata": {
  "kernelspec": {
   "display_name": "data3",
   "language": "python",
   "name": "data3"
  },
  "language_info": {
   "codemirror_mode": {
    "name": "ipython",
    "version": 3
   },
   "file_extension": ".py",
   "mimetype": "text/x-python",
   "name": "python",
   "nbconvert_exporter": "python",
   "pygments_lexer": "ipython3",
   "version": "3.6.4"
  }
 },
 "nbformat": 4,
 "nbformat_minor": 2
}
