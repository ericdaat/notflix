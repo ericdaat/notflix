{
 "cells": [
  {
   "cell_type": "code",
   "execution_count": 158,
   "metadata": {},
   "outputs": [],
   "source": [
    "import sys\n",
    "sys.path.append(\"..\")\n",
    "\n",
    "import pandas as pd\n",
    "import numpy as np\n",
    "from scipy import sparse\n",
    "from sklearn.model_selection import train_test_split\n",
    "from sklearn.feature_extraction.text import TfidfVectorizer\n",
    "from sklearn.neighbors import NearestNeighbors\n",
    "from sklearn.metrics.pairwise import linear_kernel\n",
    "\n",
    "from src.recommender import evaluate_recommendations"
   ]
  },
  {
   "cell_type": "code",
   "execution_count": 106,
   "metadata": {},
   "outputs": [],
   "source": [
    "N_RECOMMENDATIONS = 100"
   ]
  },
  {
   "cell_type": "markdown",
   "metadata": {},
   "source": [
    "## Dataset"
   ]
  },
  {
   "cell_type": "code",
   "execution_count": 149,
   "metadata": {},
   "outputs": [],
   "source": [
    "ratings_df = pd.read_csv(\"../datasets/movielens/ml-1m/ratings.csv\")\n",
    "movies_infos_df = pd.read_json(\"../datasets/movielens/omdb.csv\", lines=True)\n",
    "\n",
    "full_df = pd.merge(\n",
    "    ratings_df,\n",
    "    movies_infos_df,\n",
    "    left_index=True,\n",
    "    right_index=True\n",
    ")\n",
    "\n",
    "movies = ratings_df[\"movieId\"].unique().tolist()\n",
    "users = ratings_df[\"userId\"].unique().tolist()\n",
    "\n",
    "movie_index_to_id = movies_infos_df[\"id\"].to_dict()\n",
    "movie_id_to_index = {v: k for (k, v) in movie_index_to_id.items()}"
   ]
  },
  {
   "cell_type": "code",
   "execution_count": 108,
   "metadata": {},
   "outputs": [],
   "source": [
    "full_df_filtered = full_df.loc[full_df[\"rating\"] >= 4]\n",
    "\n",
    "train_df, test_df = train_test_split(full_df_filtered)"
   ]
  },
  {
   "cell_type": "code",
   "execution_count": 109,
   "metadata": {},
   "outputs": [],
   "source": [
    "target_recommendations_per_user = \\\n",
    "    test_df.groupby(\"userId\")[\"movieId\"].apply(set).to_dict()\n",
    "\n",
    "# e.g: `target_recommendations_per_user[2]` shows items we should predict for user 2"
   ]
  },
  {
   "cell_type": "markdown",
   "metadata": {},
   "source": [
    "## Machine Learning"
   ]
  },
  {
   "cell_type": "code",
   "execution_count": 118,
   "metadata": {},
   "outputs": [],
   "source": [
    "def evaluate_predict():\n",
    "    scores = []\n",
    "\n",
    "    for user_id in test_df[\"userId\"].unique():\n",
    "        target = target_recommendations_per_user[user_id]\n",
    "        predictions = predict(user_id)\n",
    "\n",
    "        score = evaluate_recommendations(predictions, target, k=N_RECOMMENDATIONS)\n",
    "        scores.append(score)\n",
    "\n",
    "    return np.mean(scores)"
   ]
  },
  {
   "cell_type": "markdown",
   "metadata": {},
   "source": [
    "### Random model"
   ]
  },
  {
   "cell_type": "code",
   "execution_count": 190,
   "metadata": {},
   "outputs": [],
   "source": [
    "def predict(user_id):\n",
    "    recommended_movies = np.random.choice(movies, N_RECOMMENDATIONS)\n",
    "    \n",
    "    return recommended_movies"
   ]
  },
  {
   "cell_type": "code",
   "execution_count": 191,
   "metadata": {},
   "outputs": [
    {
     "name": "stdout",
     "output_type": "stream",
     "text": [
      "CPU times: user 138 ms, sys: 11.6 ms, total: 149 ms\n",
      "Wall time: 162 ms\n"
     ]
    },
    {
     "data": {
      "text/plain": [
       "0.03279629928650603"
      ]
     },
     "execution_count": 191,
     "metadata": {},
     "output_type": "execute_result"
    }
   ],
   "source": [
    "%time evaluate_predict()"
   ]
  },
  {
   "cell_type": "markdown",
   "metadata": {},
   "source": [
    "### Content Based"
   ]
  },
  {
   "cell_type": "code",
   "execution_count": 159,
   "metadata": {},
   "outputs": [],
   "source": [
    "genre_vect = TfidfVectorizer()\n",
    "\n",
    "X = sparse.hstack([\n",
    "    genre_vect.fit_transform(movies_infos_df[\"Genre\"].fillna(\"\")),\n",
    "])"
   ]
  },
  {
   "cell_type": "code",
   "execution_count": 160,
   "metadata": {},
   "outputs": [],
   "source": [
    "cosine_sim = linear_kernel(X, X)"
   ]
  },
  {
   "cell_type": "code",
   "execution_count": 187,
   "metadata": {},
   "outputs": [],
   "source": [
    "def predict(user_id):\n",
    "    movie_ids_liked_by_user = \\\n",
    "        train_df.loc[train_df[\"userId\"] == user_id][\"id\"].tolist()\n",
    "    \n",
    "    movie_indices_liked_by_user = [movie_id_to_index[movie_id]\n",
    "                                   for movie_id in movie_ids_liked_by_user]\n",
    "\n",
    "    recommended_movies = []\n",
    "    \n",
    "    for movie_index in movie_indices_liked_by_user:\n",
    "        sim_scores = list(enumerate(cosine_sim[movie_index]))\n",
    "        sim_scores_sorted = sorted(sim_scores, key=lambda x: x[1], reverse=True)\n",
    "        \n",
    "        sim_scores_sorted = sim_scores_sorted[:(N_RECOMMENDATIONS // len(movie_indices_liked_by_user))]\n",
    "\n",
    "        recommended_movies_tmp = [movie_index_to_id[recommended_index]\n",
    "                                  for (recommended_index, score) in sim_scores_sorted]\n",
    "        \n",
    "        recommended_movies += recommended_movies_tmp\n",
    "        \n",
    "    return recommended_movies"
   ]
  },
  {
   "cell_type": "code",
   "execution_count": 188,
   "metadata": {},
   "outputs": [
    {
     "data": {
      "text/plain": [
       "0.042441582802978564"
      ]
     },
     "execution_count": 188,
     "metadata": {},
     "output_type": "execute_result"
    }
   ],
   "source": [
    "evaluate_predict()"
   ]
  },
  {
   "cell_type": "code",
   "execution_count": null,
   "metadata": {},
   "outputs": [],
   "source": []
  }
 ],
 "metadata": {
  "kernelspec": {
   "display_name": "data",
   "language": "python",
   "name": "data"
  },
  "language_info": {
   "codemirror_mode": {
    "name": "ipython",
    "version": 3
   },
   "file_extension": ".py",
   "mimetype": "text/x-python",
   "name": "python",
   "nbconvert_exporter": "python",
   "pygments_lexer": "ipython3",
   "version": "3.7.3"
  }
 },
 "nbformat": 4,
 "nbformat_minor": 2
}
