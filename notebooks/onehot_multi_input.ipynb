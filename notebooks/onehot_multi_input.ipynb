{
 "cells": [
  {
   "cell_type": "code",
   "execution_count": 5,
   "metadata": {},
   "outputs": [],
   "source": [
    "import pandas as pd\n",
    "import numpy as np\n",
    "from scipy import sparse\n",
    "import csv\n",
    "import os\n",
    "import sys\n",
    "\n",
    "from sklearn.feature_extraction.text import CountVectorizer, TfidfVectorizer\n",
    "from sklearn.neighbors import NearestNeighbors\n",
    "from sklearn.metrics.pairwise import cosine_similarity\n",
    "\n",
    "sys.path.append(\"/Users/eric/Code/notflix/\")\n",
    "\n",
    "from src.data_interface import model"
   ]
  },
  {
   "cell_type": "markdown",
   "metadata": {},
   "source": [
    "## Dataset"
   ]
  },
  {
   "cell_type": "markdown",
   "metadata": {},
   "source": [
    "### Dataset preparation"
   ]
  },
  {
   "cell_type": "code",
   "execution_count": 6,
   "metadata": {},
   "outputs": [],
   "source": [
    "df = pd.read_json(\"../datasets/movielens/omdb.csv\", lines=True)"
   ]
  },
  {
   "cell_type": "code",
   "execution_count": 7,
   "metadata": {},
   "outputs": [],
   "source": [
    "movies = df[[\n",
    "    \"id\", \"Title\", \"Plot\", \"Country\", \"Actors\", \"Director\",\n",
    "    \"Production\", \"Genre\", \"Language\", \"Released\", \"imdbVotes\", \"imdbRating\"\n",
    "]]"
   ]
  },
  {
   "cell_type": "code",
   "execution_count": 8,
   "metadata": {},
   "outputs": [
    {
     "name": "stderr",
     "output_type": "stream",
     "text": [
      "/Users/eric/Code/virtualenvs/data/lib/python3.7/site-packages/pandas/core/frame.py:4042: SettingWithCopyWarning: \n",
      "A value is trying to be set on a copy of a slice from a DataFrame\n",
      "\n",
      "See the caveats in the documentation: http://pandas.pydata.org/pandas-docs/stable/indexing.html#indexing-view-versus-copy\n",
      "  method=method)\n"
     ]
    }
   ],
   "source": [
    "movies.replace(\"N/A\", np.nan, inplace=True)"
   ]
  },
  {
   "cell_type": "markdown",
   "metadata": {},
   "source": [
    "### Cleaning features"
   ]
  },
  {
   "cell_type": "code",
   "execution_count": 9,
   "metadata": {},
   "outputs": [
    {
     "name": "stderr",
     "output_type": "stream",
     "text": [
      "/Users/eric/Code/virtualenvs/data/lib/python3.7/site-packages/ipykernel_launcher.py:1: SettingWithCopyWarning: \n",
      "A value is trying to be set on a copy of a slice from a DataFrame.\n",
      "Try using .loc[row_indexer,col_indexer] = value instead\n",
      "\n",
      "See the caveats in the documentation: http://pandas.pydata.org/pandas-docs/stable/indexing.html#indexing-view-versus-copy\n",
      "  \"\"\"Entry point for launching an IPython kernel.\n",
      "/Users/eric/Code/virtualenvs/data/lib/python3.7/site-packages/ipykernel_launcher.py:2: SettingWithCopyWarning: \n",
      "A value is trying to be set on a copy of a slice from a DataFrame.\n",
      "Try using .loc[row_indexer,col_indexer] = value instead\n",
      "\n",
      "See the caveats in the documentation: http://pandas.pydata.org/pandas-docs/stable/indexing.html#indexing-view-versus-copy\n",
      "  \n",
      "/Users/eric/Code/virtualenvs/data/lib/python3.7/site-packages/ipykernel_launcher.py:3: SettingWithCopyWarning: \n",
      "A value is trying to be set on a copy of a slice from a DataFrame.\n",
      "Try using .loc[row_indexer,col_indexer] = value instead\n",
      "\n",
      "See the caveats in the documentation: http://pandas.pydata.org/pandas-docs/stable/indexing.html#indexing-view-versus-copy\n",
      "  This is separate from the ipykernel package so we can avoid doing imports until\n",
      "/Users/eric/Code/virtualenvs/data/lib/python3.7/site-packages/ipykernel_launcher.py:4: SettingWithCopyWarning: \n",
      "A value is trying to be set on a copy of a slice from a DataFrame.\n",
      "Try using .loc[row_indexer,col_indexer] = value instead\n",
      "\n",
      "See the caveats in the documentation: http://pandas.pydata.org/pandas-docs/stable/indexing.html#indexing-view-versus-copy\n",
      "  after removing the cwd from sys.path.\n"
     ]
    }
   ],
   "source": [
    "movies[\"Released_year\"] = movies[\"Released\"].fillna(\"\").str.split(\" \").str[-1].replace(\"\", 0).astype(int)\n",
    "movies[\"Released_decade\"] = pd.cut(movies[\"Released_year\"], range(1920, 2020, 10))\n",
    "movies[\"imdbVotes\"] = movies[\"imdbVotes\"].str.replace(\",\", \"\").fillna(0).astype(int)\n",
    "movies[\"popularity\"] = pd.cut(movies[\"imdbVotes\"], 10)"
   ]
  },
  {
   "cell_type": "code",
   "execution_count": 11,
   "metadata": {},
   "outputs": [
    {
     "data": {
      "text/html": [
       "<div>\n",
       "<style scoped>\n",
       "    .dataframe tbody tr th:only-of-type {\n",
       "        vertical-align: middle;\n",
       "    }\n",
       "\n",
       "    .dataframe tbody tr th {\n",
       "        vertical-align: top;\n",
       "    }\n",
       "\n",
       "    .dataframe thead th {\n",
       "        text-align: right;\n",
       "    }\n",
       "</style>\n",
       "<table border=\"1\" class=\"dataframe\">\n",
       "  <thead>\n",
       "    <tr style=\"text-align: right;\">\n",
       "      <th></th>\n",
       "      <th>id</th>\n",
       "      <th>Title</th>\n",
       "      <th>Plot</th>\n",
       "      <th>Country</th>\n",
       "      <th>Actors</th>\n",
       "      <th>Director</th>\n",
       "      <th>Production</th>\n",
       "      <th>Genre</th>\n",
       "      <th>Language</th>\n",
       "      <th>Released</th>\n",
       "      <th>imdbVotes</th>\n",
       "      <th>imdbRating</th>\n",
       "      <th>Released_year</th>\n",
       "      <th>Released_decade</th>\n",
       "      <th>popularity</th>\n",
       "    </tr>\n",
       "  </thead>\n",
       "  <tbody>\n",
       "    <tr>\n",
       "      <th>0</th>\n",
       "      <td>1</td>\n",
       "      <td>Toy Story</td>\n",
       "      <td>A cowboy doll is profoundly threatened and jea...</td>\n",
       "      <td>USA</td>\n",
       "      <td>Tom Hanks, Tim Allen, Don Rickles, Jim Varney</td>\n",
       "      <td>John Lasseter</td>\n",
       "      <td>Buena Vista</td>\n",
       "      <td>Animation, Adventure, Comedy, Family, Fantasy</td>\n",
       "      <td>English</td>\n",
       "      <td>22 Nov 1995</td>\n",
       "      <td>783232</td>\n",
       "      <td>8.3</td>\n",
       "      <td>1995</td>\n",
       "      <td>(1990, 2000]</td>\n",
       "      <td>(620814.0, 827752.0]</td>\n",
       "    </tr>\n",
       "    <tr>\n",
       "      <th>1</th>\n",
       "      <td>2</td>\n",
       "      <td>Jumanji</td>\n",
       "      <td>When two kids find and play a magical board ga...</td>\n",
       "      <td>USA</td>\n",
       "      <td>Robin Williams, Jonathan Hyde, Kirsten Dunst, ...</td>\n",
       "      <td>Joe Johnston</td>\n",
       "      <td>Sony Pictures Home Entertainment</td>\n",
       "      <td>Adventure, Comedy, Family, Fantasy</td>\n",
       "      <td>English, French</td>\n",
       "      <td>15 Dec 1995</td>\n",
       "      <td>266124</td>\n",
       "      <td>7.0</td>\n",
       "      <td>1995</td>\n",
       "      <td>(1990, 2000]</td>\n",
       "      <td>(206938.0, 413876.0]</td>\n",
       "    </tr>\n",
       "    <tr>\n",
       "      <th>2</th>\n",
       "      <td>3</td>\n",
       "      <td>Grumpier Old Men</td>\n",
       "      <td>John and Max resolve to save their beloved bai...</td>\n",
       "      <td>USA</td>\n",
       "      <td>Walter Matthau, Jack Lemmon, Sophia Loren, Ann...</td>\n",
       "      <td>Howard Deutch</td>\n",
       "      <td>Warner Home Video</td>\n",
       "      <td>Comedy, Romance</td>\n",
       "      <td>English, Italian, German</td>\n",
       "      <td>22 Dec 1995</td>\n",
       "      <td>22329</td>\n",
       "      <td>6.6</td>\n",
       "      <td>1995</td>\n",
       "      <td>(1990, 2000]</td>\n",
       "      <td>(-2069.38, 206938.0]</td>\n",
       "    </tr>\n",
       "    <tr>\n",
       "      <th>3</th>\n",
       "      <td>4</td>\n",
       "      <td>Waiting to Exhale</td>\n",
       "      <td>Based on Terry McMillan's novel, this film fol...</td>\n",
       "      <td>USA</td>\n",
       "      <td>Whitney Houston, Angela Bassett, Loretta Devin...</td>\n",
       "      <td>Forest Whitaker</td>\n",
       "      <td>Twentieth Century Fox Home Entertainment</td>\n",
       "      <td>Comedy, Drama, Romance</td>\n",
       "      <td>English</td>\n",
       "      <td>22 Dec 1995</td>\n",
       "      <td>8640</td>\n",
       "      <td>5.8</td>\n",
       "      <td>1995</td>\n",
       "      <td>(1990, 2000]</td>\n",
       "      <td>(-2069.38, 206938.0]</td>\n",
       "    </tr>\n",
       "    <tr>\n",
       "      <th>4</th>\n",
       "      <td>5</td>\n",
       "      <td>Father of the Bride Part II</td>\n",
       "      <td>George Banks must deal not only with the pregn...</td>\n",
       "      <td>USA</td>\n",
       "      <td>Steve Martin, Diane Keaton, Martin Short, Kimb...</td>\n",
       "      <td>Charles Shyer</td>\n",
       "      <td>Disney</td>\n",
       "      <td>Comedy, Family, Romance</td>\n",
       "      <td>English</td>\n",
       "      <td>08 Dec 1995</td>\n",
       "      <td>31091</td>\n",
       "      <td>6.0</td>\n",
       "      <td>1995</td>\n",
       "      <td>(1990, 2000]</td>\n",
       "      <td>(-2069.38, 206938.0]</td>\n",
       "    </tr>\n",
       "  </tbody>\n",
       "</table>\n",
       "</div>"
      ],
      "text/plain": [
       "   id                        Title  \\\n",
       "0   1                    Toy Story   \n",
       "1   2                      Jumanji   \n",
       "2   3             Grumpier Old Men   \n",
       "3   4            Waiting to Exhale   \n",
       "4   5  Father of the Bride Part II   \n",
       "\n",
       "                                                Plot Country  \\\n",
       "0  A cowboy doll is profoundly threatened and jea...     USA   \n",
       "1  When two kids find and play a magical board ga...     USA   \n",
       "2  John and Max resolve to save their beloved bai...     USA   \n",
       "3  Based on Terry McMillan's novel, this film fol...     USA   \n",
       "4  George Banks must deal not only with the pregn...     USA   \n",
       "\n",
       "                                              Actors         Director  \\\n",
       "0      Tom Hanks, Tim Allen, Don Rickles, Jim Varney    John Lasseter   \n",
       "1  Robin Williams, Jonathan Hyde, Kirsten Dunst, ...     Joe Johnston   \n",
       "2  Walter Matthau, Jack Lemmon, Sophia Loren, Ann...    Howard Deutch   \n",
       "3  Whitney Houston, Angela Bassett, Loretta Devin...  Forest Whitaker   \n",
       "4  Steve Martin, Diane Keaton, Martin Short, Kimb...    Charles Shyer   \n",
       "\n",
       "                                 Production  \\\n",
       "0                               Buena Vista   \n",
       "1          Sony Pictures Home Entertainment   \n",
       "2                         Warner Home Video   \n",
       "3  Twentieth Century Fox Home Entertainment   \n",
       "4                                    Disney   \n",
       "\n",
       "                                           Genre                  Language  \\\n",
       "0  Animation, Adventure, Comedy, Family, Fantasy                   English   \n",
       "1             Adventure, Comedy, Family, Fantasy           English, French   \n",
       "2                                Comedy, Romance  English, Italian, German   \n",
       "3                         Comedy, Drama, Romance                   English   \n",
       "4                        Comedy, Family, Romance                   English   \n",
       "\n",
       "      Released  imdbVotes imdbRating  Released_year Released_decade  \\\n",
       "0  22 Nov 1995     783232        8.3           1995    (1990, 2000]   \n",
       "1  15 Dec 1995     266124        7.0           1995    (1990, 2000]   \n",
       "2  22 Dec 1995      22329        6.6           1995    (1990, 2000]   \n",
       "3  22 Dec 1995       8640        5.8           1995    (1990, 2000]   \n",
       "4  08 Dec 1995      31091        6.0           1995    (1990, 2000]   \n",
       "\n",
       "             popularity  \n",
       "0  (620814.0, 827752.0]  \n",
       "1  (206938.0, 413876.0]  \n",
       "2  (-2069.38, 206938.0]  \n",
       "3  (-2069.38, 206938.0]  \n",
       "4  (-2069.38, 206938.0]  "
      ]
     },
     "execution_count": 11,
     "metadata": {},
     "output_type": "execute_result"
    }
   ],
   "source": [
    "movies.head()"
   ]
  },
  {
   "cell_type": "markdown",
   "metadata": {},
   "source": [
    "### The Model"
   ]
  },
  {
   "cell_type": "code",
   "execution_count": 12,
   "metadata": {},
   "outputs": [],
   "source": [
    "country_vect = CountVectorizer()\n",
    "director_vect = CountVectorizer()\n",
    "genre_vect = CountVectorizer()\n",
    "language_vect = CountVectorizer()\n",
    "plot_vect = TfidfVectorizer(min_df=2, max_df=0.5)\n",
    "title_vect = TfidfVectorizer(min_df=2, max_df=0.5)"
   ]
  },
  {
   "cell_type": "code",
   "execution_count": 16,
   "metadata": {},
   "outputs": [],
   "source": [
    "X = sparse.hstack([\n",
    "    country_vect.fit_transform(movies[\"Country\"].fillna(\"\")),\n",
    "    genre_vect.fit_transform(movies[\"Genre\"].fillna(\"\")),\n",
    "    language_vect.fit_transform(movies[\"Language\"].fillna(\"\")),\n",
    "    director_vect.fit_transform(movies[\"Director\"].fillna(\"\")),\n",
    "    # pd.get_dummies(movies[\"Released_decade\"]).values,\n",
    "    # plot_vect.fit_transform(movies[\"Plot\"].fillna(\"\")),\n",
    "    # title_vect.fit_transform(movies[\"Title\"].fillna(\"\")),\n",
    "])"
   ]
  },
  {
   "cell_type": "code",
   "execution_count": 17,
   "metadata": {},
   "outputs": [],
   "source": [
    "nbrs = NearestNeighbors(n_neighbors=30, metric=\"cosine\").fit(X)"
   ]
  },
  {
   "cell_type": "code",
   "execution_count": 18,
   "metadata": {},
   "outputs": [
    {
     "name": "stdout",
     "output_type": "stream",
     "text": [
      "CPU times: user 20.6 s, sys: 9.04 s, total: 29.7 s\n",
      "Wall time: 30 s\n"
     ]
    }
   ],
   "source": [
    "%time distances, neighbors = nbrs.kneighbors(X)"
   ]
  },
  {
   "cell_type": "code",
   "execution_count": 20,
   "metadata": {},
   "outputs": [
    {
     "name": "stdout",
     "output_type": "stream",
     "text": [
      "CPU times: user 25.3 s, sys: 78.2 ms, total: 25.3 s\n",
      "Wall time: 25.4 s\n"
     ]
    }
   ],
   "source": [
    "%%time\n",
    "\n",
    "to_insert = []\n",
    "\n",
    "for index, movie_id in enumerate(movies.id):\n",
    "    scores = 1. - distances[index]\n",
    "    recommendations = list(map(lambda r: movies.id[r], neighbors[index]))\n",
    "    \n",
    "    for score, recommended_movie_id in zip(scores, recommendations):\n",
    "        if movie_id == recommended_movie_id:\n",
    "            continue\n",
    "            \n",
    "        r = model.Recommendation(\n",
    "            engine_name=\"OneHotMultiInput\",\n",
    "            source_item_id=movie_id,\n",
    "            recommended_item_id=recommended_movie_id,\n",
    "            score=score\n",
    "        )"
   ]
  },
  {
   "cell_type": "code",
   "execution_count": null,
   "metadata": {},
   "outputs": [],
   "source": []
  }
 ],
 "metadata": {
  "kernelspec": {
   "display_name": "data",
   "language": "python",
   "name": "data"
  },
  "language_info": {
   "codemirror_mode": {
    "name": "ipython",
    "version": 3
   },
   "file_extension": ".py",
   "mimetype": "text/x-python",
   "name": "python",
   "nbconvert_exporter": "python",
   "pygments_lexer": "ipython3",
   "version": "3.7.3"
  }
 },
 "nbformat": 4,
 "nbformat_minor": 2
}
