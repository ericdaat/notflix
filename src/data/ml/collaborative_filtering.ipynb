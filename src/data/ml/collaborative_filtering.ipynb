{
 "cells": [
  {
   "cell_type": "markdown",
   "metadata": {},
   "source": [
    "# Collaborative Filtering"
   ]
  },
  {
   "cell_type": "code",
   "execution_count": 1,
   "metadata": {},
   "outputs": [],
   "source": [
    "import os\n",
    "import sys\n",
    "\n",
    "sys.path.append(\"/Users/eric/Code/recommender-system/src\")\n",
    "\n",
    "import csv\n",
    "from scipy import sparse\n",
    "from sklearn.metrics.pairwise import cosine_similarity\n",
    "\n",
    "from data.db import Recommendations\n",
    "from data.db import insert\n",
    "\n",
    "NB_USERS = 200000\n",
    "NB_ITEMS = 300000"
   ]
  },
  {
   "cell_type": "code",
   "execution_count": 2,
   "metadata": {},
   "outputs": [],
   "source": [
    "X = sparse.lil_matrix((NB_USERS, NB_ITEMS))"
   ]
  },
  {
   "cell_type": "code",
   "execution_count": 3,
   "metadata": {},
   "outputs": [
    {
     "name": "stdout",
     "output_type": "stream",
     "text": [
      "CPU times: user 49min 2s, sys: 34.3 s, total: 49min 36s\n",
      "Wall time: 52min 1s\n"
     ]
    }
   ],
   "source": [
    "%%time\n",
    "\n",
    "with open(\"../datasets/movielens/ml-20m/ratings.csv\", \"r\") as f:\n",
    "    reader = csv.reader(f, delimiter=',')\n",
    "    next(reader, None)  # skip header\n",
    "\n",
    "    for i, (user_id, movie_id, rating, timestamp) in enumerate(reader):\n",
    "        X[user_id, movie_id] = rating"
   ]
  },
  {
   "cell_type": "markdown",
   "metadata": {},
   "source": [
    "### Cosine Similarity on Items"
   ]
  },
  {
   "cell_type": "code",
   "execution_count": 4,
   "metadata": {},
   "outputs": [
    {
     "name": "stdout",
     "output_type": "stream",
     "text": [
      "CPU times: user 1min 25s, sys: 32 s, total: 1min 57s\n",
      "Wall time: 2min 15s\n"
     ]
    }
   ],
   "source": [
    "%time item_similarities = cosine_similarity(X.T)"
   ]
  },
  {
   "cell_type": "code",
   "execution_count": 5,
   "metadata": {},
   "outputs": [
    {
     "name": "stdout",
     "output_type": "stream",
     "text": [
      "CPU times: user 16min 19s, sys: 20.2 s, total: 16min 39s\n",
      "Wall time: 17min 18s\n"
     ]
    }
   ],
   "source": [
    "%%time\n",
    "\n",
    "to_insert = []\n",
    "\n",
    "for i in range(len(item_similarities)):\n",
    "    for index, score in enumerate(item_similarities[i]):\n",
    "        if score < 0.5 or i == index:\n",
    "            continue\n",
    "            \n",
    "        r = Recommendations(**{\"engine_name\": \"CosineMovies\",\n",
    "                               \"source_product_id\": i,\n",
    "                               \"recommended_product_id\": index,\n",
    "                               \"score\": score})\n",
    "    \n",
    "        to_insert.append(r)\n",
    "        \n",
    "    if i == 10000:\n",
    "        break"
   ]
  },
  {
   "cell_type": "code",
   "execution_count": 6,
   "metadata": {},
   "outputs": [
    {
     "data": {
      "text/plain": [
       "7364"
      ]
     },
     "execution_count": 6,
     "metadata": {},
     "output_type": "execute_result"
    }
   ],
   "source": [
    "len(to_insert)"
   ]
  },
  {
   "cell_type": "code",
   "execution_count": 7,
   "metadata": {},
   "outputs": [],
   "source": [
    "insert(to_insert)"
   ]
  }
 ],
 "metadata": {
  "kernelspec": {
   "display_name": "data3",
   "language": "python",
   "name": "data3"
  },
  "language_info": {
   "codemirror_mode": {
    "name": "ipython",
    "version": 3
   },
   "file_extension": ".py",
   "mimetype": "text/x-python",
   "name": "python",
   "nbconvert_exporter": "python",
   "pygments_lexer": "ipython3",
   "version": "3.6.4"
  }
 },
 "nbformat": 4,
 "nbformat_minor": 2
}
