{
 "cells": [
  {
   "cell_type": "markdown",
   "metadata": {},
   "source": [
    "# Collaborative Filtering"
   ]
  },
  {
   "cell_type": "code",
   "execution_count": 47,
   "metadata": {},
   "outputs": [],
   "source": [
    "import os\n",
    "import sys\n",
    "\n",
    "sys.path.append(\"/Users/eric/Code/recommender-system/src\")\n",
    "\n",
    "import csv\n",
    "from scipy import sparse\n",
    "from sklearn.metrics.pairwise import cosine_similarity\n",
    "\n",
    "from data.db import Recommendations\n",
    "from data.db import insert\n",
    "\n",
    "NB_USERS = 50000\n",
    "NB_ITEMS = 200000"
   ]
  },
  {
   "cell_type": "code",
   "execution_count": 24,
   "metadata": {},
   "outputs": [],
   "source": [
    "X = sparse.lil_matrix((NB_USERS, NB_ITEMS))"
   ]
  },
  {
   "cell_type": "code",
   "execution_count": 25,
   "metadata": {},
   "outputs": [],
   "source": [
    "with open(\"../datasets/movielens/ml-20m/ratings.csv\", \"r\") as f:\n",
    "    reader = csv.reader(f, delimiter=',')\n",
    "    next(reader, None)  # skip header\n",
    "\n",
    "    for i, (user_id, movie_id, rating, timestamp) in enumerate(reader):\n",
    "        X[user_id, movie_id] = rating\n",
    "        \n",
    "        if i == 10000:\n",
    "            break"
   ]
  },
  {
   "cell_type": "markdown",
   "metadata": {},
   "source": [
    "### Cosine Similarity on Items"
   ]
  },
  {
   "cell_type": "code",
   "execution_count": 41,
   "metadata": {},
   "outputs": [],
   "source": [
    "item_similarities = cosine_similarity(X.T)"
   ]
  },
  {
   "cell_type": "code",
   "execution_count": null,
   "metadata": {},
   "outputs": [],
   "source": [
    "to_insert = []\n",
    "\n",
    "for i in range(len(item_similarities)):\n",
    "    for index, score in enumerate(similarities[i]):\n",
    "        if score < 0.5 or i == index:\n",
    "            continue\n",
    "            \n",
    "        r = Recommendations(**{\"engine_name\": \"CosineMovies\",\n",
    "                               \"source_product_id\": i,\n",
    "                               \"recommended_product_id\": index,\n",
    "                               \"score\": score})\n",
    "    \n",
    "        to_insert.append(r)"
   ]
  },
  {
   "cell_type": "code",
   "execution_count": null,
   "metadata": {},
   "outputs": [],
   "source": [
    "len(to_insert)"
   ]
  },
  {
   "cell_type": "code",
   "execution_count": 64,
   "metadata": {},
   "outputs": [],
   "source": [
    "insert(to_insert)"
   ]
  },
  {
   "cell_type": "code",
   "execution_count": null,
   "metadata": {},
   "outputs": [],
   "source": []
  }
 ],
 "metadata": {
  "kernelspec": {
   "display_name": "data3",
   "language": "python",
   "name": "data3"
  },
  "language_info": {
   "codemirror_mode": {
    "name": "ipython",
    "version": 3
   },
   "file_extension": ".py",
   "mimetype": "text/x-python",
   "name": "python",
   "nbconvert_exporter": "python",
   "pygments_lexer": "ipython3",
   "version": "3.6.4"
  }
 },
 "nbformat": 4,
 "nbformat_minor": 2
}
