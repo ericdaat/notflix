{
 "cells": [
  {
   "cell_type": "code",
   "execution_count": 55,
   "metadata": {},
   "outputs": [],
   "source": [
    "from glob import glob\n",
    "import re\n",
    "from scipy import sparse\n",
    "import numpy as np"
   ]
  },
  {
   "cell_type": "code",
   "execution_count": null,
   "metadata": {},
   "outputs": [],
   "source": [
    "NB_USERS = 500000\n",
    "NB_MOVIES = 20000"
   ]
  },
  {
   "cell_type": "code",
   "execution_count": 63,
   "metadata": {},
   "outputs": [],
   "source": [
    "X = sparse.lil_matrix((NB_MOVIES, NB_USERS), dtype=np.int8)"
   ]
  },
  {
   "cell_type": "code",
   "execution_count": 22,
   "metadata": {},
   "outputs": [
    {
     "name": "stdout",
     "output_type": "stream",
     "text": [
      "../datasets/netflix/raw/combined_data_2.txt\n"
     ]
    }
   ],
   "source": [
    "for filename in glob(\"../datasets/netflix/raw/combined_data_*.txt\"):\n",
    "    print(filename)\n",
    "\n",
    "    movie_id = None\n",
    "    data = []\n",
    "\n",
    "    with open(filename, \"r\") as f:\n",
    "        lines = f.readlines()\n",
    "\n",
    "    for i, line in enumerate(lines):\n",
    "        if re.match(pattern=r\"^[0-9]+:$\", string=line):\n",
    "            movie_id = line.split(\":\")[0]\n",
    "            continue\n",
    "\n",
    "        user_id, rating, date = line.strip().split(\",\")\n",
    "        data.append((movie_id, rating, user_id))\n",
    "        \n",
    "    for row in data:\n",
    "        movie_id, rating, user_id = row\n",
    "        user_hash = hash(user_id) % NB_USERS\n",
    "\n",
    "        X[movie_id, user_hash] = rating\n",
    "        \n",
    "    del data"
   ]
  },
  {
   "cell_type": "code",
   "execution_count": null,
   "metadata": {},
   "outputs": [],
   "source": []
  },
  {
   "cell_type": "code",
   "execution_count": null,
   "metadata": {},
   "outputs": [],
   "source": [
    "X"
   ]
  },
  {
   "cell_type": "code",
   "execution_count": null,
   "metadata": {},
   "outputs": [],
   "source": []
  }
 ],
 "metadata": {
  "kernelspec": {
   "display_name": "recommender-system",
   "language": "python",
   "name": "recommender-system"
  },
  "language_info": {
   "codemirror_mode": {
    "name": "ipython",
    "version": 3
   },
   "file_extension": ".py",
   "mimetype": "text/x-python",
   "name": "python",
   "nbconvert_exporter": "python",
   "pygments_lexer": "ipython3",
   "version": "3.6.5"
  }
 },
 "nbformat": 4,
 "nbformat_minor": 2
}
