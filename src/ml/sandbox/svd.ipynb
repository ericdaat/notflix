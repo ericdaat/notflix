{
 "cells": [
  {
   "cell_type": "markdown",
   "metadata": {},
   "source": [
    "# Collaborative Filtering"
   ]
  },
  {
   "cell_type": "code",
   "execution_count": 21,
   "metadata": {},
   "outputs": [],
   "source": [
    "import os\n",
    "import sys\n",
    "\n",
    "sys.path.append(\"/Users/eric/Code/notflix/src\")\n",
    "\n",
    "import csv\n",
    "import pandas as pd\n",
    "from scipy.sparse import csr_matrix\n",
    "from sklearn.decomposition.truncated_svd import TruncatedSVD\n",
    "from sklearn.neighbors import NearestNeighbors\n",
    "\n",
    "from src.data.db import common, utils, DB_HOST"
   ]
  },
  {
   "cell_type": "markdown",
   "metadata": {},
   "source": [
    "### SVD on Items"
   ]
  },
  {
   "cell_type": "code",
   "execution_count": 6,
   "metadata": {},
   "outputs": [],
   "source": [
    "ratings = pd.read_csv(\"../../datasets/movielens/ml-20m/ratings.csv\")\n",
    "ratings[\"like\"] = ratings[\"rating\"].apply(lambda r: 1 if r > 3 else 0)"
   ]
  },
  {
   "cell_type": "code",
   "execution_count": 7,
   "metadata": {},
   "outputs": [],
   "source": [
    "def sparse_matrix_from_df(df, groupby, indicator):\n",
    "    rows_u = list(df.index.unique())\n",
    "    columns_u = list(df[groupby].unique())\n",
    "\n",
    "    data = df[indicator].tolist()\n",
    "    \n",
    "    row = pd.Series(df.index)\\\n",
    "            .astype('category', categories=rows_u)\\\n",
    "            .cat.codes\n",
    "    col = df[groupby]\\\n",
    "            .astype('category', categories=columns_u)\\\n",
    "            .cat.codes\n",
    "            \n",
    "    sparse_matrix = csr_matrix((data, (row, col)), \n",
    "                               shape=(len(rows_u), len(columns_u)))\n",
    "\n",
    "    return sparse_matrix, rows_u, columns_u"
   ]
  },
  {
   "cell_type": "code",
   "execution_count": 25,
   "metadata": {},
   "outputs": [
    {
     "name": "stderr",
     "output_type": "stream",
     "text": [
      "/Users/eric/Code/virtualenvs/data3/lib/python3.6/site-packages/ipykernel_launcher.py:7: FutureWarning: specifying 'categories' or 'ordered' in .astype() is deprecated; pass a CategoricalDtype instead\n",
      "  import sys\n",
      "/Users/eric/Code/virtualenvs/data3/lib/python3.6/site-packages/ipykernel_launcher.py:8: FutureWarning: specifying 'categories' or 'ordered' in .astype() is deprecated; pass a CategoricalDtype instead\n",
      "  \n"
     ]
    }
   ],
   "source": [
    "matrix, items, users = sparse_matrix_from_df(ratings.sample(500000).set_index('movieId'), \n",
    "                                             \"userId\",\n",
    "                                             \"like\")"
   ]
  },
  {
   "cell_type": "code",
   "execution_count": 26,
   "metadata": {},
   "outputs": [
    {
     "name": "stdout",
     "output_type": "stream",
     "text": [
      "CPU times: user 19.9 s, sys: 1.99 s, total: 21.9 s\n",
      "Wall time: 11.9 s\n"
     ]
    }
   ],
   "source": [
    "svd = TruncatedSVD(n_components=150, n_iter=3)\n",
    "%time lower_rank_matrix = svd.fit_transform(matrix)"
   ]
  },
  {
   "cell_type": "code",
   "execution_count": 27,
   "metadata": {},
   "outputs": [
    {
     "data": {
      "text/plain": [
       "NearestNeighbors(algorithm='auto', leaf_size=30, metric='cosine',\n",
       "         metric_params=None, n_jobs=1, n_neighbors=20, p=2, radius=1.0)"
      ]
     },
     "execution_count": 27,
     "metadata": {},
     "output_type": "execute_result"
    }
   ],
   "source": [
    "knn = NearestNeighbors(20, metric=\"cosine\")\n",
    "knn.fit(lower_rank_matrix)"
   ]
  },
  {
   "cell_type": "code",
   "execution_count": 35,
   "metadata": {},
   "outputs": [],
   "source": [
    "to_insert = []\n",
    "\n",
    "for i, movie_id in enumerate(items):\n",
    "    metrics, neighbors = knn.kneighbors(lower_rank_matrix[i].reshape(1, -1))\n",
    "    \n",
    "    for metric, item_id in zip(metrics[0], map(lambda n: items[n], neighbors[0])):\n",
    "        r = common.Recommendation(**{\"engine_name\": \"SVDItems\",\n",
    "                                     \"source_product_id\": movie_id,\n",
    "                                     \"recommended_product_id\": item_id,\n",
    "                                     \"score\": 1-metric})\n",
    "        \n",
    "        to_insert.append(r)"
   ]
  },
  {
   "cell_type": "code",
   "execution_count": null,
   "metadata": {},
   "outputs": [],
   "source": []
  }
 ],
 "metadata": {
  "kernelspec": {
   "display_name": "data3",
   "language": "python",
   "name": "data3"
  },
  "language_info": {
   "codemirror_mode": {
    "name": "ipython",
    "version": 3
   },
   "file_extension": ".py",
   "mimetype": "text/x-python",
   "name": "python",
   "nbconvert_exporter": "python",
   "pygments_lexer": "ipython3",
   "version": "3.6.4"
  }
 },
 "nbformat": 4,
 "nbformat_minor": 2
}
