{
 "cells": [
  {
   "cell_type": "code",
   "execution_count": 7,
   "metadata": {},
   "outputs": [],
   "source": [
    "import re\n",
    "from collections import defaultdict\n",
    "from glob import glob\n",
    "import csv"
   ]
  },
  {
   "cell_type": "code",
   "execution_count": 8,
   "metadata": {},
   "outputs": [
    {
     "name": "stdout",
     "output_type": "stream",
     "text": [
      "ml-1m/combined_data_2.txt\n",
      "ml-1m/combined_data_3.txt\n",
      "ml-1m/combined_data_1.txt\n",
      "ml-1m/combined_data_4.txt\n"
     ]
    }
   ],
   "source": [
    "with open(\"netflix_dataset.csv\", \"a\") as output:\n",
    "    writer = csv.writer(output,\n",
    "                        delimiter=',',\n",
    "                        quoting=csv.QUOTE_MINIMAL)\n",
    "    \n",
    "    for filename in glob(\"netflix/combined_data_*.txt\"):\n",
    "        print(filename)\n",
    "\n",
    "        movie_id = None\n",
    "        data = []\n",
    "\n",
    "        with open(filename, \"r\") as f:\n",
    "            lines = f.readlines()\n",
    "\n",
    "        for i, line in enumerate(lines):\n",
    "            if re.match(pattern=r\"^[0-9]+:$\", string=line):\n",
    "                movie_id = line.split(\":\")[0]\n",
    "                continue\n",
    "\n",
    "            user_id, rating, date = line.strip().split(\",\")\n",
    "\n",
    "            data.append((movie_id, user_id, rating, date))\n",
    "        \n",
    "        writer.writerows(data)\n",
    "        del data"
   ]
  },
  {
   "cell_type": "code",
   "execution_count": null,
   "metadata": {},
   "outputs": [],
   "source": []
  }
 ],
 "metadata": {
  "kernelspec": {
   "display_name": "recommender-system",
   "language": "python",
   "name": "recommender-system"
  },
  "language_info": {
   "codemirror_mode": {
    "name": "ipython",
    "version": 3
   },
   "file_extension": ".py",
   "mimetype": "text/x-python",
   "name": "python",
   "nbconvert_exporter": "python",
   "pygments_lexer": "ipython3",
   "version": "3.6.5"
  }
 },
 "nbformat": 4,
 "nbformat_minor": 2
}
